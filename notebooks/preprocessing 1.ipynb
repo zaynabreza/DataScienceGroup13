{
 "cells": [
  {
   "cell_type": "code",
   "execution_count": null,
   "metadata": {},
   "outputs": [],
   "source": [
    "import fitz  # PyMuPDF\n",
    "import pandas as pd\n",
    "from langchain_cohere import CohereEmbeddings"
   ]
  },
  {
   "cell_type": "code",
   "execution_count": null,
   "metadata": {},
   "outputs": [],
   "source": [
    "# !pip install fitz"
   ]
  },
  {
   "cell_type": "markdown",
   "metadata": {},
   "source": [
    "### Preprocessing Pdf"
   ]
  },
  {
   "cell_type": "code",
   "execution_count": null,
   "metadata": {},
   "outputs": [],
   "source": [
    "def extract_questions_from_pdf(pdf_path):\n",
    "    document = fitz.open(pdf_path)\n",
    "    questions = []\n",
    "    for page_num in range(document.page_count):\n",
    "        page = document.load_page(page_num)\n",
    "        text = page.get_text()\n",
    "\n",
    "        # Split text into lines\n",
    "        lines = text.split('__') # text.split('\\n') was cuttign off the text for questions that spanned multiple lines\n",
    "        lines = [line.replace('\\n','') for line in lines]\n",
    "        # Extract lines that are questions (beginning with a bullet point)\n",
    "        for line in lines:\n",
    "            if line.strip().startswith('•'):\n",
    "                questions.append(line.strip()[1:].strip())\n",
    "    return questions"
   ]
  },
  {
   "cell_type": "code",
   "execution_count": null,
   "metadata": {},
   "outputs": [],
   "source": [
    "pdf_path = '/home/ethel/Documents/SOSE 2024/DATA SCIENCE/project/Uni Supply Chain/SEC Questionaire 3.pdf'\n",
    "questions = extract_questions_from_pdf(pdf_path)\n",
    "questions_df = pd.DataFrame(questions, columns=[\"Questions\"])\n",
    "questions_df['Questions'].to_list()"
   ]
  },
  {
   "cell_type": "code",
   "execution_count": null,
   "metadata": {},
   "outputs": [],
   "source": [
    "embeddings_model = CohereEmbeddings(cohere_api_key=\"yU3vQ4wcV8gbMCvsHngfAa6OfVmnaMQy1YOpVwqF\")\n",
    "embeddings_pdf = embeddings_model.embed_documents(questions_df['Questions'].to_list())\n",
    "embeddings_pdf[0]"
   ]
  },
  {
   "cell_type": "markdown",
   "metadata": {},
   "source": [
    "### Preprocessing Images"
   ]
  },
  {
   "cell_type": "code",
   "execution_count": null,
   "metadata": {},
   "outputs": [],
   "source": [
    "import pytesseract #on linux, you need to install tesseract-ocr\n",
    "from PIL import Image\n",
    "\n",
    "# Paths to the images\n",
    "image_paths = [\n",
    "    '/home/ethel/Documents/SOSE 2024/DATA SCIENCE/project/Uni Supply Chain/Sec_Questionaire1.png',\n",
    "    '/home/ethel/Documents/SOSE 2024/DATA SCIENCE/project/Uni Supply Chain/Sec_Questionaire2.png',\n",
    "    '/home/ethel/Documents/SOSE 2024/DATA SCIENCE/project/Uni Supply Chain/Sec_Questionaire3.png'\n",
    "]\n",
    "\n",
    "# Function to extract text from an image\n",
    "def extract_text_from_image(image_path):\n",
    "    image = Image.open(image_path)\n",
    "    text = pytesseract.image_to_string(image, lang='deu', config='--psm 6')\n",
    "    return text\n",
    "\n",
    "# Extract text from each image\n",
    "extracted_texts = [extract_text_from_image(image_path) for image_path in image_paths]\n",
    "extracted_texts"
   ]
  },
  {
   "cell_type": "code",
   "execution_count": null,
   "metadata": {},
   "outputs": [],
   "source": [
    "embeddings_images = embeddings_model.embed_documents(extracted_texts)\n",
    "embeddings_images"
   ]
  },
  {
   "cell_type": "markdown",
   "metadata": {},
   "source": [
    "### Preprocessing Excel"
   ]
  },
  {
   "cell_type": "code",
   "execution_count": null,
   "metadata": {},
   "outputs": [],
   "source": [
    "\n",
    "file_path = '/home/ethel/Documents/SOSE 2024/DATA SCIENCE/project/Uni Supply Chain/Security_Questionnaire_Template.V1.5.xlsx'\n",
    "excel_data = pd.ExcelFile(file_path)\n",
    "\n",
    "# Load the sheet that contains the questions and answers\n",
    "questions_sheet = pd.read_excel(file_path, sheet_name='Questionnaire',header=3)\n",
    "\n",
    "# Extract the relevant columns for questions and their corresponding answers\n",
    "questions_answers = questions_sheet[['Questions', \"Supplier's Answer\"]]\n",
    "\n",
    "# Drop rows where questions or answers are not present\n",
    "questions_answers = questions_answers.dropna(subset=['Questions', \"Supplier's Answer\"])\n",
    "questions_answers"
   ]
  },
  {
   "cell_type": "code",
   "execution_count": null,
   "metadata": {},
   "outputs": [],
   "source": [
    "excel_questions_embeddings = embeddings_model.embed_documents(questions_answers['Questions'].to_list())\n",
    "excel_answers_embeddings = embeddings_model.embed_documents(questions_answers[\"Supplier's Answer\"].to_list())\n",
    "excel_questions_embeddings"
   ]
  },
  {
   "cell_type": "code",
   "execution_count": null,
   "metadata": {},
   "outputs": [],
   "source": []
  }
 ],
 "metadata": {
  "kernelspec": {
   "display_name": "Python 3",
   "language": "python",
   "name": "python3"
  },
  "language_info": {
   "codemirror_mode": {
    "name": "ipython",
    "version": 3
   },
   "file_extension": ".py",
   "mimetype": "text/x-python",
   "name": "python",
   "nbconvert_exporter": "python",
   "pygments_lexer": "ipython3",
   "version": "3.10.12"
  }
 },
 "nbformat": 4,
 "nbformat_minor": 2
}
