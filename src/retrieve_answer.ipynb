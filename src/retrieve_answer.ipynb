{
 "cells": [
  {
   "cell_type": "code",
   "execution_count": 1,
   "metadata": {},
   "outputs": [],
   "source": [
    "# %pip install langchainhub"
   ]
  },
  {
   "cell_type": "markdown",
   "metadata": {},
   "source": [
    "## Fetching Relevant Documents"
   ]
  },
  {
   "cell_type": "code",
   "execution_count": 2,
   "metadata": {},
   "outputs": [],
   "source": [
    "from langchain_community.embeddings import GPT4AllEmbeddings\n",
    "from langchain_elasticsearch import ElasticsearchStore\n",
    "import numpy as np\n",
    "from dotenv import load_dotenv\n",
    "import os"
   ]
  },
  {
   "cell_type": "code",
   "execution_count": 3,
   "metadata": {},
   "outputs": [],
   "source": [
    "load_dotenv()  # This loads the .env file at the application start\n",
    "password = os.getenv('passwd')\n",
    "api_key = os.getenv('api_key')"
   ]
  },
  {
   "cell_type": "code",
   "execution_count": 4,
   "metadata": {},
   "outputs": [],
   "source": [
    "# basic model used for embeddings, can be improved by using a more complex model\n",
    "model_name = \"all-MiniLM-L6-v2.gguf2.f16.gguf\""
   ]
  },
  {
   "cell_type": "code",
   "execution_count": 5,
   "metadata": {},
   "outputs": [],
   "source": [
    "embedding = GPT4AllEmbeddings(model_name=model_name)"
   ]
  },
  {
   "cell_type": "code",
   "execution_count": 6,
   "metadata": {},
   "outputs": [],
   "source": [
    "cloud_id  = '802f868877384e9798b731802ffa4827:ZXVyb3BlLXdlc3QzLmdjcC5jbG91ZC5lcy5pbyQ0NzYyZTQ2YzQ5NDg0ODY5YTAzZDMxYzg5NjY2MjY3YyQ1ZjQ3NWI2NTQxOTI0NmZiODcxNDc3NjZlMTI4YWE2YQ=='\n",
    "elastic_vector_search = ElasticsearchStore(\n",
    "    es_cloud_id=cloud_id,\n",
    "    index_name=\"embeddings_index\",\n",
    "    embedding=embedding,\n",
    "    es_user=\"group13\",\n",
    "    es_password=password,\n",
    "    es_api_key=api_key\n",
    ")"
   ]
  },
  {
   "cell_type": "code",
   "execution_count": 7,
   "metadata": {},
   "outputs": [],
   "source": [
    "question = \"Who is responsible for conducting the risk analysis and what methodology is used\""
   ]
  },
  {
   "cell_type": "code",
   "execution_count": 18,
   "metadata": {},
   "outputs": [],
   "source": [
    "# using the most basic retrieval method for now, to be experimented with\n",
    "retriever = elastic_vector_search.as_retriever(search_type=\"similarity\", search_kwargs={\"k\": 20})\n",
    "\n",
    "retrieved_docs = retriever.invoke(question)"
   ]
  },
  {
   "cell_type": "code",
   "execution_count": 19,
   "metadata": {},
   "outputs": [
    {
     "data": {
      "text/plain": [
       "[Document(page_content='Die Auditoren wählen für die Prüfung geeignete Methoden aus. Dies sind zum Beispiel Dokumentsichtung oder Interviews mit Anwendern, Administratoren', metadata={'source': 'KnowledgeBase/Ergebnis_des_IT-Grundschutz-Checks.xlsx'}),\n",
       " Document(page_content='Konventionalstrafen.\\nSelbstbestimmungsrecht Beeinträchtigungen des informationellen Selbstbestimmungsrechts', metadata={'source': 'KnowledgeBase/A21_Definition_Schutzbedarfskategorien.pdf', 'page': 4}),\n",
       " Document(page_content='Konventionalstrafen.\\nSelbstbestimmungsrecht Beeinträchtigungen des informationellen Selbstbestimmungsrechts', metadata={'source': 'KnowledgeBase/A21_Definition_Schutzbedarfskategorien.pdf', 'page': 4}),\n",
       " Document(page_content='Das Compliance Management ist Bestandteil des Audits für Informationssicherheit.\\nRichtlinie zur internen ISMS-Auditierung', metadata={'source': 'KnowledgeBase/Ergebnis_des_IT-Grundschutz-Checks.xlsx'}),\n",
       " Document(page_content='Sowohl das Management als auch alle Mitarbeiter unterstützen den Prozess zur Durchführung interner \\nISMS-Audits.\\n2.2 Prüfzyklen', metadata={'source': 'KnowledgeBase/A04_Richtlinie_internen_ISMS_Auditierung.pdf', 'page': 4}),\n",
       " Document(page_content='Informationssicherheit. Weiterhin werden im IS-Management-Team Audits geplant und Sicherheitsvorfälle', metadata={'source': 'KnowledgeBase/A01_Sicherheitsleitlinie.pdf', 'page': 8}),\n",
       " Document(page_content='Die vorliegende Richtlinie gilt für die Durchführung interner ISMS-Audits zur Kontrolle des', metadata={'source': 'KnowledgeBase/A04_Richtlinie_internen_ISMS_Auditierung.pdf', 'page': 3}),\n",
       " Document(page_content='Beim internen ISMS-Audit sind zu prüfen:\\n- Aktualität der Angaben\\n- Umsetzungsstand der Vorgaben\\n- Wirksamkeitsprüfung\\n2.4  Dokumentation', metadata={'source': 'KnowledgeBase/A04_Richtlinie_internen_ISMS_Auditierung.pdf', 'page': 4}),\n",
       " Document(page_content='Die vorliegende Richtlinie beschreibt die Vorgaben zur Durchführung der internen ISMS-Audits.\\n1.2 Geltungsbereich', metadata={'source': 'KnowledgeBase/A04_Richtlinie_internen_ISMS_Auditierung.pdf', 'page': 3}),\n",
       " Document(page_content='Richtlinie zur Einhaltung der Compliance', metadata={'source': 'KnowledgeBase/Ergebnis_des_IT-Grundschutz-Checks.xlsx'}),\n",
       " Document(page_content='Vor Beginn des Audits findet ein Auftaktgespräch statt, in welchem nochmal alle organisatorischen Rahmenbedingungen geklärt werden.', metadata={'source': 'KnowledgeBase/Ergebnis_des_IT-Grundschutz-Checks.xlsx'}),\n",
       " Document(page_content='Der Qualitätsmanagementbeauftragte hat ein Auditprogramm für 3 Jahre im voraus erstellt. Für die Audits wurden entsprechende Ziele definiert. Die', metadata={'source': 'KnowledgeBase/Ergebnis_des_IT-Grundschutz-Checks.xlsx'}),\n",
       " Document(page_content='Das interne ISMS-Audit wird vollumfänglich dokumentiert:\\n- Auditplanung\\n- Dokumentation der Prüfung der A.0-A.3 und A.5-Dokumente.', metadata={'source': 'KnowledgeBase/A04_Richtlinie_internen_ISMS_Auditierung.pdf', 'page': 4}),\n",
       " Document(page_content='Der Bericht zum internen ISMS-Audit geht in die Managementbewertung ein.\\n2.5 Umgang mit Abweichungen und Empfehlungen', metadata={'source': 'KnowledgeBase/A04_Richtlinie_internen_ISMS_Auditierung.pdf', 'page': 5}),\n",
       " Document(page_content='Informationsverbund\\nDER.1 Detektion von sicherheitsrelevanten Ereignissen\\nDER.1.A13 Regelmäßige Audits der Detektionssysteme\\nStandard\\nJa', metadata={'source': 'KnowledgeBase/Ergebnis_des_IT-Grundschutz-Checks.xlsx'}),\n",
       " Document(page_content='Stichproben des vorhergehenden Audits gewählt werden.', metadata={'source': 'KnowledgeBase/Ergebnis_des_IT-Grundschutz-Checks.xlsx'}),\n",
       " Document(page_content='Auffälligkeiten untersucht. Die Auditergebnisse werden dokumentiert und mit dem Soll-Zustand abgeglichen. Abweichungen werden entsprechend behoben.', metadata={'source': 'KnowledgeBase/Ergebnis_des_IT-Grundschutz-Checks.xlsx'}),\n",
       " Document(page_content='Management -Reports sowie eventuell in der \\nRisikoanalyse dokumentiert.  \\nIn der Richtlinie zur Lenkung von Dokumenten', metadata={'source': 'KnowledgeBase/Beschreibung_Recplast.pdf', 'page': 55}),\n",
       " Document(page_content='Interne ISMS-Audits werden jährlich durchgeführt.\\n2.3 Umfang\\nDas interne ISMS-Audit umfasst folgende Punkte:\\n- A.0-Referenzdokumente', metadata={'source': 'KnowledgeBase/A04_Richtlinie_internen_ISMS_Auditierung.pdf', 'page': 4}),\n",
       " Document(page_content='Managementsystems für Informationssicherheit wurden diverse weiterführende Regelungen geschaffen, die', metadata={'source': 'KnowledgeBase/A01_Sicherheitsleitlinie.pdf', 'page': 10})]"
      ]
     },
     "execution_count": 19,
     "metadata": {},
     "output_type": "execute_result"
    }
   ],
   "source": [
    "retrieved_docs"
   ]
  },
  {
   "cell_type": "code",
   "execution_count": 9,
   "metadata": {},
   "outputs": [],
   "source": [
    "document_texts = [result.page_content for result in results]  # adjust the key according to your result structure\n",
    "\n",
    "# Concatenate these texts into a single string to provide as context\n",
    "context = \" \".join(document_texts)"
   ]
  },
  {
   "cell_type": "markdown",
   "metadata": {},
   "source": [
    "## Generating Prompt for Question Answering"
   ]
  },
  {
   "cell_type": "code",
   "execution_count": 12,
   "metadata": {},
   "outputs": [],
   "source": [
    "from langchain_core.prompts import PromptTemplate\n",
    "from langchain.chains import LLMChain\n",
    "from langchain_community.llms import GPT4All\n",
    "from langchain_core.callbacks import StreamingStdOutCallbackHandler\n",
    "from langchain import hub\n",
    "\n",
    "# Says max 3 sentences, can change accoriding to the requirement\n",
    "prompt = hub.pull(\"rlm/rag-prompt\")\n",
    "\n",
    "example_messages = prompt.invoke(\n",
    "    {\"context\": \"filler context\", \"question\": \"filler question\"}\n",
    ").to_messages()"
   ]
  },
  {
   "cell_type": "code",
   "execution_count": 13,
   "metadata": {},
   "outputs": [
    {
     "name": "stdout",
     "output_type": "stream",
     "text": [
      "You are an assistant for question-answering tasks. Use the following pieces of retrieved context to answer the question. If you don't know the answer, just say that you don't know. Use three sentences maximum and keep the answer concise.\n",
      "Question: filler question \n",
      "Context: filler context \n",
      "Answer:\n"
     ]
    }
   ],
   "source": [
    "print(example_messages[0].content)"
   ]
  },
  {
   "cell_type": "code",
   "execution_count": 15,
   "metadata": {},
   "outputs": [],
   "source": [
    "from langchain_core.output_parsers import StrOutputParser\n",
    "from langchain_core.runnables import RunnablePassthrough\n",
    "\n",
    "\n",
    "# model downloaded using gpt4all ui, path pointing to model\n",
    "model_path = \"/Users/I748655/Library/Application Support/nomic.ai/GPT4All/Meta-Llama-3-8B-Instruct.Q4_0.gguf\"\n",
    "\n",
    "# Callbacks support token-wise streaming\n",
    "callbacks = [StreamingStdOutCallbackHandler()]\n",
    "\n",
    "llm = GPT4All(model=model_path, callbacks=callbacks, verbose=True)"
   ]
  },
  {
   "cell_type": "code",
   "execution_count": 17,
   "metadata": {},
   "outputs": [],
   "source": [
    "def build_context(results):\n",
    "    return \"\\n\\n\".join(result.page_content for result in results)"
   ]
  },
  {
   "cell_type": "code",
   "execution_count": 20,
   "metadata": {},
   "outputs": [],
   "source": [
    "rag_chain = (\n",
    "    {\"context\": retriever | build_context, \"question\": RunnablePassthrough()}\n",
    "    | prompt\n",
    "    | llm\n",
    "    | StrOutputParser()\n",
    ")"
   ]
  },
  {
   "cell_type": "code",
   "execution_count": 21,
   "metadata": {},
   "outputs": [
    {
     "name": "stdout",
     "output_type": "stream",
     "text": [
      " The risk analysis is conducted by the management and auditors. The methodology used includes document review or interviews with users, administrators, and other relevant stakeholders. The risk analysis is conducted by the management and auditors. The methodology used includes document review or interviews with users, administrators, and other relevant stakeholders."
     ]
    }
   ],
   "source": [
    "for chunk in rag_chain.stream(question):\n",
    "    print(chunk, end=\"\", flush=True)"
   ]
  },
  {
   "cell_type": "markdown",
   "metadata": {},
   "source": [
    " The risk analysis is conducted by the management and auditors. The methodology used includes document review or interviews with users, administrators, and other relevant stakeholders. The risk analysis is conducted by the management and auditors. The methodology used includes document review or interviews with users, administrators, and other relevant stakeholders."
   ]
  },
  {
   "cell_type": "code",
   "execution_count": null,
   "metadata": {},
   "outputs": [],
   "source": []
  }
 ],
 "metadata": {
  "kernelspec": {
   "display_name": "Python 3",
   "language": "python",
   "name": "python3"
  },
  "language_info": {
   "codemirror_mode": {
    "name": "ipython",
    "version": 3
   },
   "file_extension": ".py",
   "mimetype": "text/x-python",
   "name": "python",
   "nbconvert_exporter": "python",
   "pygments_lexer": "ipython3",
   "version": "3.9.6"
  }
 },
 "nbformat": 4,
 "nbformat_minor": 2
}
